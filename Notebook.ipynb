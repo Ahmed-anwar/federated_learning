{
 "cells": [
  {
   "cell_type": "code",
   "execution_count": 1,
   "id": "15a74675",
   "metadata": {},
   "outputs": [
    {
     "name": "stderr",
     "output_type": "stream",
     "text": [
      "2023-02-08 18:23:01.484138: I tensorflow/core/platform/cpu_feature_guard.cc:193] This TensorFlow binary is optimized with oneAPI Deep Neural Network Library (oneDNN) to use the following CPU instructions in performance-critical operations:  AVX2 FMA\n",
      "To enable them in other operations, rebuild TensorFlow with the appropriate compiler flags.\n",
      "2023-02-08 18:23:02.234244: W tensorflow/compiler/xla/stream_executor/platform/default/dso_loader.cc:64] Could not load dynamic library 'libnvinfer.so.7'; dlerror: libnvinfer.so.7: cannot open shared object file: No such file or directory\n",
      "2023-02-08 18:23:02.234453: W tensorflow/compiler/xla/stream_executor/platform/default/dso_loader.cc:64] Could not load dynamic library 'libnvinfer_plugin.so.7'; dlerror: libnvinfer_plugin.so.7: cannot open shared object file: No such file or directory\n",
      "2023-02-08 18:23:02.234461: W tensorflow/compiler/tf2tensorrt/utils/py_utils.cc:38] TF-TRT Warning: Cannot dlopen some TensorRT libraries. If you would like to use Nvidia GPU with TensorRT, please make sure the missing libraries mentioned above are installed properly.\n"
     ]
    }
   ],
   "source": [
    "%matplotlib inline\n",
    "\n",
    "import sys, os\n",
    "sys.argv = [''] #fix parser issue\n",
    "\n",
    "import tensorflow as tf\n",
    "import numpy as np\n",
    "from sklearn.metrics import precision_recall_fscore_support\n",
    "from tqdm import trange\n",
    "import matplotlib.pyplot as plt\n",
    "\n",
    "from networks import CNN\n",
    "from parser import args\n",
    "from summary import Summary\n",
    "import utils\n"
   ]
  },
  {
   "cell_type": "code",
   "execution_count": 2,
   "id": "49a6ae32",
   "metadata": {},
   "outputs": [],
   "source": [
    "args.eval_during_training = True"
   ]
  },
  {
   "cell_type": "code",
   "execution_count": 3,
   "id": "c23cb9dd",
   "metadata": {},
   "outputs": [],
   "source": [
    "def eval_model(network, criterion, test_loader, summary = None):\n",
    "    accuracy = tf.keras.metrics.SparseCategoricalAccuracy(name='Accuracy')\n",
    "    labels = []\n",
    "    test_iter = iter(test_loader)\n",
    "#     for eval_steps in trange(len(test_loader), leave=False, file=sys.stdout,\n",
    "#                             desc='   Evaluation Progress', unit_scale=False):\n",
    "    for eval_steps in range(len(test_loader)):\n",
    "        input, target = next(test_iter)\n",
    "\n",
    "        if(len(input.shape) <= 3):\n",
    "            input = tf.expand_dims(input, -1)\n",
    "\n",
    "        pred = network(input)\n",
    "        labels += [tf.argmax(pred, axis=1)]\n",
    "        loss = criterion(target, pred)\n",
    "        accuracy(target, pred)\n",
    "        if(summary is not None):\n",
    "            summary.step(loss, target, pred, eval=True)\n",
    "    return accuracy.result() * 100, np.array(labels)"
   ]
  },
  {
   "cell_type": "code",
   "execution_count": 4,
   "id": "07850c26",
   "metadata": {},
   "outputs": [],
   "source": [
    "# uncomment this to run a single experiment per kernel run\n",
    "# otherwise the trace needs to be reset for tf.function between different experiments\n",
    "#@tf.function\n",
    "def training_step(network, criterion, data, summary, optimizer):\n",
    "    input, target = data\n",
    "    loss = 0\n",
    "    with tf.GradientTape() as tape:\n",
    "        pred = network(input)\n",
    "        loss = criterion(target, pred)\n",
    "\n",
    "    gradients = tape.gradient(loss, network.trainable_variables,\n",
    "                                    unconnected_gradients=tf.UnconnectedGradients.ZERO)\n",
    "    optimizer.apply_gradients(zip(gradients, network.trainable_variables))\n",
    "\n",
    "    summary.step(loss, target, pred, eval=False)\n",
    "\n",
    "    del tape\n"
   ]
  },
  {
   "cell_type": "code",
   "execution_count": 5,
   "id": "bfa29acd",
   "metadata": {},
   "outputs": [],
   "source": [
    "def train(network, optimizer, criterion, checkpoint, checkpoint_manager,\n",
    "            train_loader, test_loader, summary):\n",
    "\n",
    "    training_steps = len(train_loader)\n",
    "    steps_done = checkpoint.step.numpy() + 1\n",
    "    train_iter = iter(train_loader)\n",
    "    x, y = tf.random.uniform([args.batch_size,28,28,1]), tf.random.uniform([args.batch_size,1])\n",
    "#     t_step = tf.function(training_step).get_concrete_function(network, criterion, (x,y),summary, optimizer)\n",
    "        \n",
    "    for steps in trange(int(steps_done), training_steps, desc='Training Progress', file=sys.stdout):\n",
    "        # fetch data\n",
    "        input, target = next(train_iter)\n",
    "\n",
    "        # expand input shape in case of only 1 channel\n",
    "        if(len(input.shape) <= 3):\n",
    "            input = tf.expand_dims(input, -1)\n",
    "#         t_step(network, criterion,(input, target),summary)\n",
    "        training_step(network, criterion,(input, target),summary,optimizer)\n",
    "\n",
    "        # evaluation step\n",
    "        if(args.eval_during_training and steps > 0\n",
    "                    and steps % args.num_eval_steps == 0):\n",
    "            eval_model(network, criterion, test_loader, summary)\n",
    "            summary.write(steps, eval=True)\n",
    "\n",
    "        #  log training accuracy and update checkpoint\n",
    "        if(steps % args.num_summary_steps == 0):\n",
    "            summary.write(steps, eval=False)\n",
    "            if(summary.max_test_accuracy <= checkpoint.best_test):\n",
    "                checkpoint.best_train.assign(summary.max_train_accuracy)\n",
    "                checkpoint.best_test.assign(summary.max_test_accuracy)\n",
    "                checkpoint.step.assign(steps)\n",
    "                checkpoint_manager.save(checkpoint_number=steps//args.num_summary_steps)\n",
    "\n",
    "    # evaluate model after finishing training epochs\n",
    "    eval_model(network, criterion, test_loader,summary)\n",
    "\n",
    "    if(summary.max_test_accuracy <= checkpoint.best_test):\n",
    "        checkpoint.best_train.assign(summary.max_train_accuracy)\n",
    "        checkpoint.best_test.assign(summary.max_test_accuracy)\n",
    "        checkpoint.step.assign(steps)\n",
    "        checkpoint_manager.save(checkpoint_number=steps//args.num_summary_steps)\n",
    "\n",
    "    summary.write(training_steps + 1, eval=True)\n",
    "    summary.write(training_steps + 1, eval=False)\n",
    "\n",
    "    print('Training accuracy: ', summary.max_train_accuracy)\n",
    "    print('Evaluation accuracy: ', summary.max_test_accuracy)\n",
    "    summary.writer.close()"
   ]
  },
  {
   "cell_type": "code",
   "execution_count": 6,
   "id": "49326979",
   "metadata": {},
   "outputs": [
    {
     "name": "stdout",
     "output_type": "stream",
     "text": [
      "GPUs found:  [PhysicalDevice(name='/physical_device:GPU:0', device_type='GPU')]\n"
     ]
    },
    {
     "name": "stderr",
     "output_type": "stream",
     "text": [
      "2023-02-08 18:23:07.601996: I tensorflow/compiler/xla/stream_executor/cuda/cuda_gpu_executor.cc:981] successful NUMA node read from SysFS had negative value (-1), but there must be at least one NUMA node, so returning NUMA node zero\n",
      "2023-02-08 18:23:07.608359: I tensorflow/compiler/xla/stream_executor/cuda/cuda_gpu_executor.cc:981] successful NUMA node read from SysFS had negative value (-1), but there must be at least one NUMA node, so returning NUMA node zero\n",
      "2023-02-08 18:23:07.608681: I tensorflow/compiler/xla/stream_executor/cuda/cuda_gpu_executor.cc:981] successful NUMA node read from SysFS had negative value (-1), but there must be at least one NUMA node, so returning NUMA node zero\n"
     ]
    }
   ],
   "source": [
    "# Make sure computing on cuda\n",
    "print('GPUs found: ', tf.config.list_physical_devices('GPU'))"
   ]
  },
  {
   "cell_type": "code",
   "execution_count": 7,
   "id": "24fe2580",
   "metadata": {},
   "outputs": [],
   "source": [
    "tf.random.set_seed(args.random_seed)"
   ]
  },
  {
   "cell_type": "markdown",
   "id": "d602a7a3",
   "metadata": {},
   "source": [
    "# Training a 'client' model on MNIST"
   ]
  },
  {
   "cell_type": "code",
   "execution_count": null,
   "id": "89a9e153",
   "metadata": {},
   "outputs": [],
   "source": []
  },
  {
   "cell_type": "markdown",
   "id": "2acaf9bc",
   "metadata": {},
   "source": [
    "### Random initialization"
   ]
  },
  {
   "cell_type": "code",
   "execution_count": null,
   "id": "20a51ce3",
   "metadata": {},
   "outputs": [],
   "source": [
    "experiment = 'c_mnist'\n",
    "args.dataset = 'mnist'\n",
    "\n",
    "exp_path = os.path.join(args.model_dir, experiment)\n",
    "utils.initialize_dirs(exp_path)\n",
    "\n",
    "summary = Summary(experiment)\n",
    "network = CNN()\n",
    "optimizer = utils.initialize_optimizer()\n",
    "criterion = utils.initialize_criterion()\n",
    "checkpoint, checkpoint_manager = utils.initialize_checkpoint(network, optimizer, exp_path)\n",
    "\n",
    "# data loading\n",
    "train_loader, test_loader, targets = utils.initialize_dataloaders()\n",
    "\n",
    "#train client network\n",
    "train(network, optimizer, criterion, checkpoint, checkpoint_manager, train_loader, test_loader, summary)\n",
    "accuracy, predictions = eval_model(network, criterion, test_loader)\n",
    "\n",
    "p, r, f, s = precision_recall_fscore_support(targets, predictions.reshape(-1), average=None,labels=np.arange(20))\n",
    "    \n",
    "print('Random Initialization MNIST model:')\n",
    "print(accuracy.numpy())\n",
    "print(r)"
   ]
  },
  {
   "cell_type": "code",
   "execution_count": 8,
   "id": "0e61a90c",
   "metadata": {},
   "outputs": [
    {
     "name": "stderr",
     "output_type": "stream",
     "text": [
      "2023-02-08 17:47:20.454049: I tensorflow/core/platform/cpu_feature_guard.cc:193] This TensorFlow binary is optimized with oneAPI Deep Neural Network Library (oneDNN) to use the following CPU instructions in performance-critical operations:  AVX2 FMA\n",
      "To enable them in other operations, rebuild TensorFlow with the appropriate compiler flags.\n",
      "2023-02-08 17:47:20.454819: I tensorflow/compiler/xla/stream_executor/cuda/cuda_gpu_executor.cc:981] successful NUMA node read from SysFS had negative value (-1), but there must be at least one NUMA node, so returning NUMA node zero\n",
      "2023-02-08 17:47:20.455421: I tensorflow/compiler/xla/stream_executor/cuda/cuda_gpu_executor.cc:981] successful NUMA node read from SysFS had negative value (-1), but there must be at least one NUMA node, so returning NUMA node zero\n",
      "2023-02-08 17:47:20.455888: I tensorflow/compiler/xla/stream_executor/cuda/cuda_gpu_executor.cc:981] successful NUMA node read from SysFS had negative value (-1), but there must be at least one NUMA node, so returning NUMA node zero\n",
      "2023-02-08 17:47:21.398833: I tensorflow/compiler/xla/stream_executor/cuda/cuda_gpu_executor.cc:981] successful NUMA node read from SysFS had negative value (-1), but there must be at least one NUMA node, so returning NUMA node zero\n",
      "2023-02-08 17:47:21.399518: I tensorflow/compiler/xla/stream_executor/cuda/cuda_gpu_executor.cc:981] successful NUMA node read from SysFS had negative value (-1), but there must be at least one NUMA node, so returning NUMA node zero\n",
      "2023-02-08 17:47:21.399791: I tensorflow/compiler/xla/stream_executor/cuda/cuda_gpu_executor.cc:981] successful NUMA node read from SysFS had negative value (-1), but there must be at least one NUMA node, so returning NUMA node zero\n",
      "2023-02-08 17:47:21.400243: I tensorflow/core/common_runtime/gpu/gpu_device.cc:1613] Created device /job:localhost/replica:0/task:0/device:GPU:0 with 2629 MB memory:  -> device: 0, name: NVIDIA GeForce GTX 1650, pci bus id: 0000:01:00.0, compute capability: 7.5\n",
      "2023-02-08 17:47:21.802259: W tensorflow/tsl/framework/cpu_allocator_impl.cc:82] Allocation of 47040000 exceeds 10% of free system memory.\n",
      "2023-02-08 17:47:21.851745: W tensorflow/tsl/framework/cpu_allocator_impl.cc:82] Allocation of 188160000 exceeds 10% of free system memory.\n",
      "2023-02-08 17:47:21.956999: W tensorflow/tsl/framework/cpu_allocator_impl.cc:82] Allocation of 31360000 exceeds 10% of free system memory.\n",
      "2023-02-08 17:47:21.979903: W tensorflow/tsl/framework/cpu_allocator_impl.cc:82] Allocation of 188160000 exceeds 10% of free system memory.\n"
     ]
    },
    {
     "name": "stdout",
     "output_type": "stream",
     "text": [
      "\r",
      "Training Progress:   0%|                             | 0/131249 [00:00<?, ?it/s]"
     ]
    },
    {
     "name": "stderr",
     "output_type": "stream",
     "text": [
      "2023-02-08 17:47:24.086635: I tensorflow/compiler/xla/stream_executor/cuda/cuda_dnn.cc:428] Loaded cuDNN version 8101\n",
      "2023-02-08 17:47:25.025995: I tensorflow/tsl/platform/default/subprocess.cc:304] Start cannot spawn child process: No such file or directory\n",
      "2023-02-08 17:47:26.842348: I tensorflow/compiler/xla/service/service.cc:173] XLA service 0x7fa1edeb5b80 initialized for platform CUDA (this does not guarantee that XLA will be used). Devices:\n",
      "2023-02-08 17:47:26.842379: I tensorflow/compiler/xla/service/service.cc:181]   StreamExecutor device (0): NVIDIA GeForce GTX 1650, Compute Capability 7.5\n",
      "2023-02-08 17:47:26.889332: I tensorflow/compiler/mlir/tensorflow/utils/dump_mlir_util.cc:268] disabling MLIR crash reproducer, set env var `MLIR_CRASH_REPRODUCER_DIRECTORY` to enable.\n",
      "2023-02-08 17:47:27.118048: I tensorflow/tsl/platform/default/subprocess.cc:304] Start cannot spawn child process: No such file or directory\n",
      "2023-02-08 17:47:27.191463: I tensorflow/compiler/jit/xla_compilation_cache.cc:477] Compiled cluster using XLA!  This line is logged at most once for the lifetime of the process.\n"
     ]
    },
    {
     "name": "stdout",
     "output_type": "stream",
     "text": [
      "Training Progress:   1%|▏                 | 967/131249 [00:08<05:21, 405.16it/s]"
     ]
    },
    {
     "name": "stderr",
     "output_type": "stream",
     "text": [
      "2023-02-08 17:47:30.530646: W tensorflow/tsl/framework/cpu_allocator_impl.cc:82] Allocation of 31360000 exceeds 10% of free system memory.\n"
     ]
    },
    {
     "name": "stdout",
     "output_type": "stream",
     "text": [
      "Training Progress: 100%|███████████████| 131249/131249 [05:23<00:00, 405.66it/s]\n",
      "Training accuracy:  tf.Tensor(100.0, shape=(), dtype=float32)\n",
      "Evaluation accuracy:  tf.Tensor(98.869995, shape=(), dtype=float32)\n",
      "Random Initialization MNIST model:\n",
      "98.869995\n",
      "[0.99489796 0.99735683 0.98934109 0.99405941 0.99185336 0.9809417\n",
      " 0.98643006 0.9844358  0.98151951 0.98414272 0.         0.\n",
      " 0.         0.         0.         0.         0.         0.\n",
      " 0.         0.        ]\n"
     ]
    },
    {
     "name": "stderr",
     "output_type": "stream",
     "text": [
      "/home/anwar/miniconda3/envs/ml/lib/python3.7/site-packages/sklearn/metrics/_classification.py:1318: UndefinedMetricWarning: Precision and F-score are ill-defined and being set to 0.0 in labels with no predicted samples. Use `zero_division` parameter to control this behavior.\n",
      "  _warn_prf(average, modifier, msg_start, len(result))\n",
      "/home/anwar/miniconda3/envs/ml/lib/python3.7/site-packages/sklearn/metrics/_classification.py:1318: UndefinedMetricWarning: Recall and F-score are ill-defined and being set to 0.0 in labels with no true samples. Use `zero_division` parameter to control this behavior.\n",
      "  _warn_prf(average, modifier, msg_start, len(result))\n"
     ]
    },
    {
     "data": {
      "image/png": "[encoded data removed]",
      "text/plain": [
       "<Figure size 640x480 with 1 Axes>"
      ]
     },
     "metadata": {},
     "output_type": "display_data"
    }
   ],
   "source": [
    "fig = plt.figure()\n",
    "ax = fig.add_axes([0,0,0.5,0.5])\n",
    "ax.bar(np.arange(20),r)\n",
    "plt.show()"
   ]
  },
  {
   "cell_type": "markdown",
   "id": "ce31bd1a",
   "metadata": {},
   "source": [
    "### Set seed for initialization"
   ]
  },
  {
   "cell_type": "code",
   "execution_count": 8,
   "id": "ef08f374",
   "metadata": {},
   "outputs": [
    {
     "name": "stderr",
     "output_type": "stream",
     "text": [
      "2023-02-08 18:11:36.970304: I tensorflow/core/platform/cpu_feature_guard.cc:193] This TensorFlow binary is optimized with oneAPI Deep Neural Network Library (oneDNN) to use the following CPU instructions in performance-critical operations:  AVX2 FMA\n",
      "To enable them in other operations, rebuild TensorFlow with the appropriate compiler flags.\n",
      "2023-02-08 18:11:36.970750: I tensorflow/compiler/xla/stream_executor/cuda/cuda_gpu_executor.cc:981] successful NUMA node read from SysFS had negative value (-1), but there must be at least one NUMA node, so returning NUMA node zero\n",
      "2023-02-08 18:11:36.971184: I tensorflow/compiler/xla/stream_executor/cuda/cuda_gpu_executor.cc:981] successful NUMA node read from SysFS had negative value (-1), but there must be at least one NUMA node, so returning NUMA node zero\n",
      "2023-02-08 18:11:36.971498: I tensorflow/compiler/xla/stream_executor/cuda/cuda_gpu_executor.cc:981] successful NUMA node read from SysFS had negative value (-1), but there must be at least one NUMA node, so returning NUMA node zero\n",
      "2023-02-08 18:11:37.861909: I tensorflow/compiler/xla/stream_executor/cuda/cuda_gpu_executor.cc:981] successful NUMA node read from SysFS had negative value (-1), but there must be at least one NUMA node, so returning NUMA node zero\n",
      "2023-02-08 18:11:37.862219: I tensorflow/compiler/xla/stream_executor/cuda/cuda_gpu_executor.cc:981] successful NUMA node read from SysFS had negative value (-1), but there must be at least one NUMA node, so returning NUMA node zero\n",
      "2023-02-08 18:11:37.862521: I tensorflow/compiler/xla/stream_executor/cuda/cuda_gpu_executor.cc:981] successful NUMA node read from SysFS had negative value (-1), but there must be at least one NUMA node, so returning NUMA node zero\n",
      "2023-02-08 18:11:37.862763: I tensorflow/core/common_runtime/gpu/gpu_device.cc:1613] Created device /job:localhost/replica:0/task:0/device:GPU:0 with 2629 MB memory:  -> device: 0, name: NVIDIA GeForce GTX 1650, pci bus id: 0000:01:00.0, compute capability: 7.5\n",
      "2023-02-08 18:11:38.207814: W tensorflow/tsl/framework/cpu_allocator_impl.cc:82] Allocation of 188160000 exceeds 10% of free system memory.\n",
      "2023-02-08 18:11:38.317815: W tensorflow/tsl/framework/cpu_allocator_impl.cc:82] Allocation of 188160000 exceeds 10% of free system memory.\n"
     ]
    },
    {
     "name": "stdout",
     "output_type": "stream",
     "text": [
      "\r",
      "Training Progress:   0%|                             | 0/131249 [00:00<?, ?it/s]"
     ]
    },
    {
     "name": "stderr",
     "output_type": "stream",
     "text": [
      "2023-02-08 18:11:39.734147: I tensorflow/compiler/xla/stream_executor/cuda/cuda_dnn.cc:428] Loaded cuDNN version 8101\n",
      "2023-02-08 18:11:40.645558: I tensorflow/tsl/platform/default/subprocess.cc:304] Start cannot spawn child process: No such file or directory\n",
      "2023-02-08 18:11:42.145531: I tensorflow/compiler/xla/service/service.cc:173] XLA service 0x7f7b7e9a0380 initialized for platform CUDA (this does not guarantee that XLA will be used). Devices:\n",
      "2023-02-08 18:11:42.145557: I tensorflow/compiler/xla/service/service.cc:181]   StreamExecutor device (0): NVIDIA GeForce GTX 1650, Compute Capability 7.5\n",
      "2023-02-08 18:11:42.176713: I tensorflow/compiler/mlir/tensorflow/utils/dump_mlir_util.cc:268] disabling MLIR crash reproducer, set env var `MLIR_CRASH_REPRODUCER_DIRECTORY` to enable.\n",
      "2023-02-08 18:11:42.430066: I tensorflow/tsl/platform/default/subprocess.cc:304] Start cannot spawn child process: No such file or directory\n",
      "2023-02-08 18:11:42.481089: I tensorflow/compiler/jit/xla_compilation_cache.cc:477] Compiled cluster using XLA!  This line is logged at most once for the lifetime of the process.\n"
     ]
    },
    {
     "name": "stdout",
     "output_type": "stream",
     "text": [
      "Training Progress: 100%|███████████████| 131249/131249 [05:05<00:00, 429.00it/s]\n",
      "Training accuracy:  tf.Tensor(100.0, shape=(), dtype=float32)\n",
      "Evaluation accuracy:  tf.Tensor(98.92, shape=(), dtype=float32)\n",
      "Set Seed Initialization MNIST model:\n",
      "98.85\n",
      "[0.99285714 0.99735683 0.98643411 0.98415842 0.99185336 0.98430493\n",
      " 0.98538622 0.98929961 0.98870637 0.98315164 0.         0.\n",
      " 0.         0.         0.         0.         0.         0.\n",
      " 0.         0.        ]\n"
     ]
    },
    {
     "name": "stderr",
     "output_type": "stream",
     "text": [
      "/home/anwar/miniconda3/envs/ml/lib/python3.7/site-packages/sklearn/metrics/_classification.py:1318: UndefinedMetricWarning: Precision and F-score are ill-defined and being set to 0.0 in labels with no predicted samples. Use `zero_division` parameter to control this behavior.\n",
      "  _warn_prf(average, modifier, msg_start, len(result))\n",
      "/home/anwar/miniconda3/envs/ml/lib/python3.7/site-packages/sklearn/metrics/_classification.py:1318: UndefinedMetricWarning: Recall and F-score are ill-defined and being set to 0.0 in labels with no true samples. Use `zero_division` parameter to control this behavior.\n",
      "  _warn_prf(average, modifier, msg_start, len(result))\n"
     ]
    }
   ],
   "source": [
    "experiment = 'c_mnist_setseed'\n",
    "args.dataset = 'mnist'\n",
    "\n",
    "exp_path = os.path.join(args.model_dir, experiment)\n",
    "utils.initialize_dirs(exp_path)\n",
    "\n",
    "summary = Summary(experiment)\n",
    "network = CNN(42)\n",
    "optimizer = utils.initialize_optimizer()\n",
    "criterion = utils.initialize_criterion()\n",
    "checkpoint, checkpoint_manager = utils.initialize_checkpoint(network, optimizer, exp_path)\n",
    "\n",
    "# data loading\n",
    "train_loader, test_loader, targets = utils.initialize_dataloaders()\n",
    "\n",
    "#train client network\n",
    "train(network, optimizer, criterion, checkpoint, checkpoint_manager, train_loader, test_loader, summary)\n",
    "accuracy, predictions = eval_model(network, criterion, test_loader)\n",
    "p, r, f, s = precision_recall_fscore_support(targets, predictions.reshape(-1), average=None,labels=np.arange(20))\n",
    "    \n",
    "print('Set Seed Initialization MNIST model:')\n",
    "print(accuracy.numpy())\n",
    "print(r)"
   ]
  },
  {
   "cell_type": "code",
   "execution_count": 9,
   "id": "127d92fd",
   "metadata": {},
   "outputs": [
    {
     "data": {
      "image/png": "[encoded data removed]",
      "text/plain": [
       "<Figure size 640x480 with 1 Axes>"
      ]
     },
     "metadata": {},
     "output_type": "display_data"
    }
   ],
   "source": [
    "fig = plt.figure()\n",
    "ax = fig.add_axes([0,0,0.5,0.5])\n",
    "ax.bar(np.arange(20),r)\n",
    "plt.show()"
   ]
  },
  {
   "cell_type": "markdown",
   "id": "7716ba9a",
   "metadata": {},
   "source": [
    "# Training a 'client' model on Fashion MNIST"
   ]
  },
  {
   "cell_type": "markdown",
   "id": "aa59e49b",
   "metadata": {},
   "source": [
    "### Random initialization"
   ]
  },
  {
   "cell_type": "code",
   "execution_count": 8,
   "id": "fc27b501",
   "metadata": {},
   "outputs": [
    {
     "name": "stderr",
     "output_type": "stream",
     "text": [
      "2023-02-08 18:17:42.265685: I tensorflow/core/platform/cpu_feature_guard.cc:193] This TensorFlow binary is optimized with oneAPI Deep Neural Network Library (oneDNN) to use the following CPU instructions in performance-critical operations:  AVX2 FMA\n",
      "To enable them in other operations, rebuild TensorFlow with the appropriate compiler flags.\n",
      "2023-02-08 18:17:42.266149: I tensorflow/compiler/xla/stream_executor/cuda/cuda_gpu_executor.cc:981] successful NUMA node read from SysFS had negative value (-1), but there must be at least one NUMA node, so returning NUMA node zero\n",
      "2023-02-08 18:17:42.266544: I tensorflow/compiler/xla/stream_executor/cuda/cuda_gpu_executor.cc:981] successful NUMA node read from SysFS had negative value (-1), but there must be at least one NUMA node, so returning NUMA node zero\n",
      "2023-02-08 18:17:42.266819: I tensorflow/compiler/xla/stream_executor/cuda/cuda_gpu_executor.cc:981] successful NUMA node read from SysFS had negative value (-1), but there must be at least one NUMA node, so returning NUMA node zero\n",
      "2023-02-08 18:17:42.920232: I tensorflow/compiler/xla/stream_executor/cuda/cuda_gpu_executor.cc:981] successful NUMA node read from SysFS had negative value (-1), but there must be at least one NUMA node, so returning NUMA node zero\n",
      "2023-02-08 18:17:42.920550: I tensorflow/compiler/xla/stream_executor/cuda/cuda_gpu_executor.cc:981] successful NUMA node read from SysFS had negative value (-1), but there must be at least one NUMA node, so returning NUMA node zero\n",
      "2023-02-08 18:17:42.920812: I tensorflow/compiler/xla/stream_executor/cuda/cuda_gpu_executor.cc:981] successful NUMA node read from SysFS had negative value (-1), but there must be at least one NUMA node, so returning NUMA node zero\n",
      "2023-02-08 18:17:42.921053: I tensorflow/core/common_runtime/gpu/gpu_device.cc:1613] Created device /job:localhost/replica:0/task:0/device:GPU:0 with 2629 MB memory:  -> device: 0, name: NVIDIA GeForce GTX 1650, pci bus id: 0000:01:00.0, compute capability: 7.5\n",
      "2023-02-08 18:17:42.986124: W tensorflow/tsl/framework/cpu_allocator_impl.cc:82] Allocation of 188160000 exceeds 10% of free system memory.\n",
      "2023-02-08 18:17:43.164741: W tensorflow/tsl/framework/cpu_allocator_impl.cc:82] Allocation of 188160000 exceeds 10% of free system memory.\n"
     ]
    },
    {
     "name": "stdout",
     "output_type": "stream",
     "text": [
      "\r",
      "Training Progress:   0%|                             | 0/131249 [00:00<?, ?it/s]"
     ]
    },
    {
     "name": "stderr",
     "output_type": "stream",
     "text": [
      "2023-02-08 18:17:44.323139: I tensorflow/compiler/xla/stream_executor/cuda/cuda_dnn.cc:428] Loaded cuDNN version 8101\n",
      "2023-02-08 18:17:44.762138: I tensorflow/tsl/platform/default/subprocess.cc:304] Start cannot spawn child process: No such file or directory\n",
      "2023-02-08 18:17:45.376277: I tensorflow/compiler/xla/service/service.cc:173] XLA service 0x7fb2f40118f0 initialized for platform CUDA (this does not guarantee that XLA will be used). Devices:\n",
      "2023-02-08 18:17:45.376304: I tensorflow/compiler/xla/service/service.cc:181]   StreamExecutor device (0): NVIDIA GeForce GTX 1650, Compute Capability 7.5\n",
      "2023-02-08 18:17:45.379794: I tensorflow/compiler/mlir/tensorflow/utils/dump_mlir_util.cc:268] disabling MLIR crash reproducer, set env var `MLIR_CRASH_REPRODUCER_DIRECTORY` to enable.\n",
      "2023-02-08 18:17:45.449172: I tensorflow/tsl/platform/default/subprocess.cc:304] Start cannot spawn child process: No such file or directory\n",
      "2023-02-08 18:17:45.498629: I tensorflow/compiler/jit/xla_compilation_cache.cc:477] Compiled cluster using XLA!  This line is logged at most once for the lifetime of the process.\n"
     ]
    },
    {
     "name": "stdout",
     "output_type": "stream",
     "text": [
      "Training Progress: 100%|███████████████| 131249/131249 [05:00<00:00, 436.20it/s]\n",
      "Training accuracy:  tf.Tensor(98.375, shape=(), dtype=float32)\n",
      "Evaluation accuracy:  tf.Tensor(90.6, shape=(), dtype=float32)\n",
      "Random Initialization Fashion MNIST model:\n",
      "90.35\n",
      "[0.    0.    0.    0.    0.    0.    0.    0.    0.    0.    0.879 0.981\n",
      " 0.804 0.894 0.888 0.973 0.707 0.973 0.977 0.959]\n"
     ]
    },
    {
     "name": "stderr",
     "output_type": "stream",
     "text": [
      "/home/anwar/miniconda3/envs/ml/lib/python3.7/site-packages/sklearn/metrics/_classification.py:1318: UndefinedMetricWarning: Precision and F-score are ill-defined and being set to 0.0 in labels with no predicted samples. Use `zero_division` parameter to control this behavior.\n",
      "  _warn_prf(average, modifier, msg_start, len(result))\n",
      "/home/anwar/miniconda3/envs/ml/lib/python3.7/site-packages/sklearn/metrics/_classification.py:1318: UndefinedMetricWarning: Recall and F-score are ill-defined and being set to 0.0 in labels with no true samples. Use `zero_division` parameter to control this behavior.\n",
      "  _warn_prf(average, modifier, msg_start, len(result))\n"
     ]
    }
   ],
   "source": [
    "tf.keras.backend.clear_session()\n",
    "experiment = 'c_fmnist'\n",
    "args.dataset = 'fmnist'\n",
    "\n",
    "exp_path = os.path.join(args.model_dir, experiment)\n",
    "utils.initialize_dirs(exp_path)\n",
    "\n",
    "# data loading\n",
    "train_loader, test_loader, targets = utils.initialize_dataloaders()\n",
    "\n",
    "summary = Summary(experiment)\n",
    "network = CNN()\n",
    "network.build([1,28,28,1])\n",
    "optimizer = utils.initialize_optimizer()\n",
    "criterion = utils.initialize_criterion()\n",
    "checkpoint, checkpoint_manager = utils.initialize_checkpoint(network, optimizer, exp_path)\n",
    "\n",
    "\n",
    "#train client network\n",
    "train(network, optimizer, criterion, checkpoint, checkpoint_manager, train_loader, test_loader, summary)\n",
    "accuracy, predictions = eval_model(network, criterion, test_loader)\n",
    "p, r, f, s = precision_recall_fscore_support(targets, predictions.reshape(-1), average=None,labels=np.arange(20))\n",
    "    \n",
    "print('Random Initialization Fashion MNIST model:')\n",
    "print(accuracy.numpy())\n",
    "print(r)"
   ]
  },
  {
   "cell_type": "code",
   "execution_count": 9,
   "id": "f21fca08",
   "metadata": {},
   "outputs": [
    {
     "data": {
      "image/png": "[encoded data removed]",
      "text/plain": [
       "<Figure size 640x480 with 1 Axes>"
      ]
     },
     "metadata": {},
     "output_type": "display_data"
    }
   ],
   "source": [
    "fig = plt.figure()\n",
    "ax = fig.add_axes([0,0,0.5,0.5])\n",
    "ax.bar(np.arange(20),r)\n",
    "plt.show()"
   ]
  },
  {
   "cell_type": "markdown",
   "id": "c02788bd",
   "metadata": {},
   "source": [
    "### Set seed for initialization"
   ]
  },
  {
   "cell_type": "code",
   "execution_count": 8,
   "id": "896a981c",
   "metadata": {},
   "outputs": [
    {
     "name": "stderr",
     "output_type": "stream",
     "text": [
      "2023-02-08 18:23:28.406981: I tensorflow/core/platform/cpu_feature_guard.cc:193] This TensorFlow binary is optimized with oneAPI Deep Neural Network Library (oneDNN) to use the following CPU instructions in performance-critical operations:  AVX2 FMA\n",
      "To enable them in other operations, rebuild TensorFlow with the appropriate compiler flags.\n",
      "2023-02-08 18:23:28.407521: I tensorflow/compiler/xla/stream_executor/cuda/cuda_gpu_executor.cc:981] successful NUMA node read from SysFS had negative value (-1), but there must be at least one NUMA node, so returning NUMA node zero\n",
      "2023-02-08 18:23:28.408142: I tensorflow/compiler/xla/stream_executor/cuda/cuda_gpu_executor.cc:981] successful NUMA node read from SysFS had negative value (-1), but there must be at least one NUMA node, so returning NUMA node zero\n",
      "2023-02-08 18:23:28.408585: I tensorflow/compiler/xla/stream_executor/cuda/cuda_gpu_executor.cc:981] successful NUMA node read from SysFS had negative value (-1), but there must be at least one NUMA node, so returning NUMA node zero\n",
      "2023-02-08 18:23:28.887893: I tensorflow/compiler/xla/stream_executor/cuda/cuda_gpu_executor.cc:981] successful NUMA node read from SysFS had negative value (-1), but there must be at least one NUMA node, so returning NUMA node zero\n",
      "2023-02-08 18:23:28.888221: I tensorflow/compiler/xla/stream_executor/cuda/cuda_gpu_executor.cc:981] successful NUMA node read from SysFS had negative value (-1), but there must be at least one NUMA node, so returning NUMA node zero\n",
      "2023-02-08 18:23:28.888492: I tensorflow/compiler/xla/stream_executor/cuda/cuda_gpu_executor.cc:981] successful NUMA node read from SysFS had negative value (-1), but there must be at least one NUMA node, so returning NUMA node zero\n",
      "2023-02-08 18:23:28.888733: I tensorflow/core/common_runtime/gpu/gpu_device.cc:1613] Created device /job:localhost/replica:0/task:0/device:GPU:0 with 2629 MB memory:  -> device: 0, name: NVIDIA GeForce GTX 1650, pci bus id: 0000:01:00.0, compute capability: 7.5\n"
     ]
    },
    {
     "name": "stdout",
     "output_type": "stream",
     "text": [
      "\r",
      "Training Progress:   0%|                             | 0/131249 [00:00<?, ?it/s]"
     ]
    },
    {
     "name": "stderr",
     "output_type": "stream",
     "text": [
      "2023-02-08 18:23:30.700929: I tensorflow/compiler/xla/stream_executor/cuda/cuda_dnn.cc:428] Loaded cuDNN version 8101\n",
      "2023-02-08 18:23:31.104010: I tensorflow/tsl/platform/default/subprocess.cc:304] Start cannot spawn child process: No such file or directory\n",
      "2023-02-08 18:23:31.659821: I tensorflow/compiler/xla/service/service.cc:173] XLA service 0x7fdca9752100 initialized for platform CUDA (this does not guarantee that XLA will be used). Devices:\n",
      "2023-02-08 18:23:31.659839: I tensorflow/compiler/xla/service/service.cc:181]   StreamExecutor device (0): NVIDIA GeForce GTX 1650, Compute Capability 7.5\n",
      "2023-02-08 18:23:31.663210: I tensorflow/compiler/mlir/tensorflow/utils/dump_mlir_util.cc:268] disabling MLIR crash reproducer, set env var `MLIR_CRASH_REPRODUCER_DIRECTORY` to enable.\n",
      "2023-02-08 18:23:31.727611: I tensorflow/tsl/platform/default/subprocess.cc:304] Start cannot spawn child process: No such file or directory\n",
      "2023-02-08 18:23:31.775549: I tensorflow/compiler/jit/xla_compilation_cache.cc:477] Compiled cluster using XLA!  This line is logged at most once for the lifetime of the process.\n"
     ]
    },
    {
     "name": "stdout",
     "output_type": "stream",
     "text": [
      "Training Progress: 100%|███████████████| 131249/131249 [05:06<00:00, 428.79it/s]\n",
      "Training accuracy:  tf.Tensor(98.341835, shape=(), dtype=float32)\n",
      "Evaluation accuracy:  tf.Tensor(91.119995, shape=(), dtype=float32)\n",
      "Set Seed Initialization MNIST model:\n",
      "90.96\n",
      "[0.    0.    0.    0.    0.    0.    0.    0.    0.    0.    0.878 0.983\n",
      " 0.854 0.887 0.885 0.97  0.722 0.98  0.974 0.963]\n"
     ]
    },
    {
     "name": "stderr",
     "output_type": "stream",
     "text": [
      "/home/anwar/miniconda3/envs/ml/lib/python3.7/site-packages/sklearn/metrics/_classification.py:1318: UndefinedMetricWarning: Precision and F-score are ill-defined and being set to 0.0 in labels with no predicted samples. Use `zero_division` parameter to control this behavior.\n",
      "  _warn_prf(average, modifier, msg_start, len(result))\n",
      "/home/anwar/miniconda3/envs/ml/lib/python3.7/site-packages/sklearn/metrics/_classification.py:1318: UndefinedMetricWarning: Recall and F-score are ill-defined and being set to 0.0 in labels with no true samples. Use `zero_division` parameter to control this behavior.\n",
      "  _warn_prf(average, modifier, msg_start, len(result))\n"
     ]
    }
   ],
   "source": [
    "experiment = 'c_fmnist_setseed'\n",
    "args.dataset = 'fmnist'\n",
    "\n",
    "exp_path = os.path.join(args.model_dir, experiment)\n",
    "utils.initialize_dirs(exp_path)\n",
    "\n",
    "summary = Summary(experiment)\n",
    "network = CNN(42)\n",
    "optimizer = utils.initialize_optimizer()\n",
    "criterion = utils.initialize_criterion()\n",
    "checkpoint, checkpoint_manager = utils.initialize_checkpoint(network, optimizer, exp_path)\n",
    "\n",
    "# data loading\n",
    "train_loader, test_loader, targets = utils.initialize_dataloaders()\n",
    "\n",
    "#train client network\n",
    "train(network, optimizer, criterion, checkpoint, checkpoint_manager, train_loader, test_loader, summary)\n",
    "accuracy, predictions = eval_model(network, criterion, test_loader)\n",
    "p, r, f, s = precision_recall_fscore_support(targets, predictions.reshape(-1), average=None,labels=np.arange(20))\n",
    "    \n",
    "print('Set Seed Initialization MNIST model:')\n",
    "print(accuracy.numpy())\n",
    "print(r)"
   ]
  },
  {
   "cell_type": "code",
   "execution_count": 9,
   "id": "f533f2a7",
   "metadata": {},
   "outputs": [
    {
     "data": {
      "image/png": "[encoded data removed]",
      "text/plain": [
       "<Figure size 640x480 with 1 Axes>"
      ]
     },
     "metadata": {},
     "output_type": "display_data"
    }
   ],
   "source": [
    "fig = plt.figure()\n",
    "ax = fig.add_axes([0,0,0.5,0.5])\n",
    "ax.bar(np.arange(20),r)\n",
    "plt.show()"
   ]
  },
  {
   "cell_type": "markdown",
   "id": "c7f67420",
   "metadata": {},
   "source": [
    "## Create dataset containing both MNIST and FMNIST"
   ]
  },
  {
   "cell_type": "code",
   "execution_count": 26,
   "id": "0a47d2e8",
   "metadata": {},
   "outputs": [
    {
     "name": "stderr",
     "output_type": "stream",
     "text": [
      "2023-02-08 18:43:27.999194: W tensorflow/tsl/framework/cpu_allocator_impl.cc:82] Allocation of 376320000 exceeds 10% of free system memory.\n"
     ]
    }
   ],
   "source": [
    "mnist = tf.keras.datasets.mnist\n",
    "(m_x_train, m_y_train), (m_x_test, m_y_test) = mnist.load_data()\n",
    "m_x_train = tf.cast(m_x_train, dtype=tf.float32)\n",
    "m_x_test = tf.cast(m_x_test, dtype=tf.float32)\n",
    "m_x_train, m_x_test = m_x_train / 255.0, m_x_test / 255.0\n",
    "\n",
    "fmnist = tf.keras.datasets.fashion_mnist\n",
    "(x_train, y_train_old), (x_test, y_test_old) = fmnist.load_data()\n",
    "y_train = y_train_old + 10\n",
    "y_test = y_test_old + 10\n",
    "x_train = tf.cast(x_train, dtype=tf.float32)\n",
    "x_test = tf.cast(x_test, dtype=tf.float32)\n",
    "x_train, x_test = x_train / 255.0, x_test / 255.0\n",
    "\n",
    "f_x_train = tf.concat([x_train, m_x_train],0)\n",
    "f_x_test = tf.concat([x_test, m_x_test],0)\n",
    "f_y_train = tf.concat([y_train, m_y_train],0)\n",
    "f_y_test = tf.concat([y_test, m_y_test],0)\n",
    "\n",
    "full_train_loader = tf.data.Dataset.from_tensor_slices((f_x_train, f_y_train)).shuffle(x_train.shape[0]).repeat(args.epochs).batch(args.batch_size)\n",
    "full_test_loader = tf.data.Dataset.from_tensor_slices((f_x_test, f_y_test)).batch(args.eval_batch_size)"
   ]
  },
  {
   "cell_type": "code",
   "execution_count": 27,
   "id": "832baa6a",
   "metadata": {},
   "outputs": [],
   "source": [
    "clients = ['c_mnist', 'c_fmnist']\n",
    "clients_setseed = ['c_mnist_setseed', 'c_fmnist_setseed']\n",
    "\n",
    "n_clients = len(clients)"
   ]
  },
  {
   "cell_type": "markdown",
   "id": "8e86fb3f",
   "metadata": {},
   "source": [
    "# Creating Federated Model"
   ]
  },
  {
   "cell_type": "code",
   "execution_count": 28,
   "id": "e7c03394",
   "metadata": {},
   "outputs": [
    {
     "data": {
      "text/plain": [
       "<tf.Tensor: shape=(1, 20), dtype=float32, numpy=\n",
       "array([[-0.04428594,  0.0305936 , -0.01058867, -0.05268055,  0.01184747,\n",
       "        -0.05283582, -0.09278443,  0.00301115, -0.01669198, -0.00127565,\n",
       "         0.02928724, -0.01078262, -0.02904074,  0.0229306 ,  0.01424787,\n",
       "        -0.00145532, -0.05813391, -0.09276426, -0.00037723,  0.00061042]],\n",
       "      dtype=float32)>"
      ]
     },
     "execution_count": 28,
     "metadata": {},
     "output_type": "execute_result"
    }
   ],
   "source": [
    "federal_model = CNN()\n",
    "federal_model(tf.random.uniform([1,28,28,1])) #initialize network"
   ]
  },
  {
   "cell_type": "markdown",
   "id": "34baf5a1",
   "metadata": {},
   "source": [
    "## Collecting client models"
   ]
  },
  {
   "cell_type": "markdown",
   "id": "e91aa05f",
   "metadata": {},
   "source": [
    "### Randomly initialized models"
   ]
  },
  {
   "cell_type": "code",
   "execution_count": 35,
   "id": "7e0e267f",
   "metadata": {},
   "outputs": [
    {
     "name": "stdout",
     "output_type": "stream",
     "text": [
      "Resuming training from trained_models/c_mnist/ckpt-4...\n",
      "WARNING:tensorflow:Detecting that an object or model or tf.train.Checkpoint is being deleted with unrestored values. See the following logs for the specific values in question. To silence these warnings, use `status.expect_partial()`. See https://www.tensorflow.org/api_docs/python/tf/train/Checkpoint#restorefor details about the status object returned by the restore function.\n",
      "WARNING:tensorflow:Value in checkpoint could not be found in the restored object: (root).optimizer._variables.1\n",
      "WARNING:tensorflow:Value in checkpoint could not be found in the restored object: (root).optimizer._variables.2\n",
      "WARNING:tensorflow:Value in checkpoint could not be found in the restored object: (root).optimizer._variables.3\n",
      "WARNING:tensorflow:Value in checkpoint could not be found in the restored object: (root).optimizer._variables.4\n",
      "WARNING:tensorflow:Value in checkpoint could not be found in the restored object: (root).optimizer._variables.5\n",
      "WARNING:tensorflow:Value in checkpoint could not be found in the restored object: (root).optimizer._variables.6\n",
      "WARNING:tensorflow:Value in checkpoint could not be found in the restored object: (root).optimizer._variables.7\n",
      "WARNING:tensorflow:Value in checkpoint could not be found in the restored object: (root).optimizer._variables.8\n",
      "WARNING:tensorflow:Value in checkpoint could not be found in the restored object: (root).optimizer._variables.9\n",
      "WARNING:tensorflow:Value in checkpoint could not be found in the restored object: (root).optimizer._variables.10\n",
      "WARNING:tensorflow:Value in checkpoint could not be found in the restored object: (root).optimizer._variables.11\n",
      "WARNING:tensorflow:Value in checkpoint could not be found in the restored object: (root).optimizer._variables.12\n",
      "WARNING:tensorflow:Value in checkpoint could not be found in the restored object: (root).optimizer._variables.13\n",
      "WARNING:tensorflow:Value in checkpoint could not be found in the restored object: (root).optimizer._variables.14\n",
      "WARNING:tensorflow:Value in checkpoint could not be found in the restored object: (root).optimizer._variables.15\n",
      "WARNING:tensorflow:Value in checkpoint could not be found in the restored object: (root).optimizer._variables.16\n",
      "Resuming training from trained_models/c_fmnist/ckpt-4...\n",
      "WARNING:tensorflow:Detecting that an object or model or tf.train.Checkpoint is being deleted with unrestored values. See the following logs for the specific values in question. To silence these warnings, use `status.expect_partial()`. See https://www.tensorflow.org/api_docs/python/tf/train/Checkpoint#restorefor details about the status object returned by the restore function.\n",
      "WARNING:tensorflow:Value in checkpoint could not be found in the restored object: (root).optimizer._variables.1\n",
      "WARNING:tensorflow:Value in checkpoint could not be found in the restored object: (root).optimizer._variables.2\n",
      "WARNING:tensorflow:Value in checkpoint could not be found in the restored object: (root).optimizer._variables.3\n",
      "WARNING:tensorflow:Value in checkpoint could not be found in the restored object: (root).optimizer._variables.4\n",
      "WARNING:tensorflow:Value in checkpoint could not be found in the restored object: (root).optimizer._variables.5\n",
      "WARNING:tensorflow:Value in checkpoint could not be found in the restored object: (root).optimizer._variables.6\n",
      "WARNING:tensorflow:Value in checkpoint could not be found in the restored object: (root).optimizer._variables.7\n",
      "WARNING:tensorflow:Value in checkpoint could not be found in the restored object: (root).optimizer._variables.8\n",
      "WARNING:tensorflow:Value in checkpoint could not be found in the restored object: (root).optimizer._variables.9\n",
      "WARNING:tensorflow:Value in checkpoint could not be found in the restored object: (root).optimizer._variables.10\n",
      "WARNING:tensorflow:Value in checkpoint could not be found in the restored object: (root).optimizer._variables.11\n",
      "WARNING:tensorflow:Value in checkpoint could not be found in the restored object: (root).optimizer._variables.12\n",
      "WARNING:tensorflow:Value in checkpoint could not be found in the restored object: (root).optimizer._variables.13\n",
      "WARNING:tensorflow:Value in checkpoint could not be found in the restored object: (root).optimizer._variables.14\n",
      "WARNING:tensorflow:Value in checkpoint could not be found in the restored object: (root).optimizer._variables.15\n",
      "WARNING:tensorflow:Value in checkpoint could not be found in the restored object: (root).optimizer._variables.16\n"
     ]
    }
   ],
   "source": [
    "cmodels=[]\n",
    "x = tf.random.uniform([1,28,28,1])\n",
    "for c in clients:\n",
    "        c_path = os.path.join(args.model_dir, c)\n",
    "        c_network = CNN()\n",
    "        c_optimizer = utils.initialize_optimizer()\n",
    "        c_checkpoint, c_checkpoint_manager = utils.initialize_checkpoint(c_network, c_optimizer, c_path)\n",
    "        c_network(x) # restore deferred variables\n",
    "        cmodels += [c_network]"
   ]
  },
  {
   "cell_type": "markdown",
   "id": "1a4a9316",
   "metadata": {},
   "source": [
    "### Averaging models initialized with the same weights"
   ]
  },
  {
   "cell_type": "code",
   "execution_count": 42,
   "id": "b9803aa9",
   "metadata": {},
   "outputs": [
    {
     "name": "stdout",
     "output_type": "stream",
     "text": [
      "Resuming training from trained_models/c_mnist_setseed/ckpt-4...\n",
      "WARNING:tensorflow:Detecting that an object or model or tf.train.Checkpoint is being deleted with unrestored values. See the following logs for the specific values in question. To silence these warnings, use `status.expect_partial()`. See https://www.tensorflow.org/api_docs/python/tf/train/Checkpoint#restorefor details about the status object returned by the restore function.\n",
      "WARNING:tensorflow:Value in checkpoint could not be found in the restored object: (root).optimizer._variables.1\n",
      "WARNING:tensorflow:Value in checkpoint could not be found in the restored object: (root).optimizer._variables.2\n",
      "WARNING:tensorflow:Value in checkpoint could not be found in the restored object: (root).optimizer._variables.3\n",
      "WARNING:tensorflow:Value in checkpoint could not be found in the restored object: (root).optimizer._variables.4\n",
      "WARNING:tensorflow:Value in checkpoint could not be found in the restored object: (root).optimizer._variables.5\n",
      "WARNING:tensorflow:Value in checkpoint could not be found in the restored object: (root).optimizer._variables.6\n",
      "WARNING:tensorflow:Value in checkpoint could not be found in the restored object: (root).optimizer._variables.7\n",
      "WARNING:tensorflow:Value in checkpoint could not be found in the restored object: (root).optimizer._variables.8\n",
      "WARNING:tensorflow:Value in checkpoint could not be found in the restored object: (root).optimizer._variables.9\n",
      "WARNING:tensorflow:Value in checkpoint could not be found in the restored object: (root).optimizer._variables.10\n",
      "WARNING:tensorflow:Value in checkpoint could not be found in the restored object: (root).optimizer._variables.11\n",
      "WARNING:tensorflow:Value in checkpoint could not be found in the restored object: (root).optimizer._variables.12\n",
      "WARNING:tensorflow:Value in checkpoint could not be found in the restored object: (root).optimizer._variables.13\n",
      "WARNING:tensorflow:Value in checkpoint could not be found in the restored object: (root).optimizer._variables.14\n",
      "WARNING:tensorflow:Value in checkpoint could not be found in the restored object: (root).optimizer._variables.15\n",
      "WARNING:tensorflow:Value in checkpoint could not be found in the restored object: (root).optimizer._variables.16\n",
      "Resuming training from trained_models/c_fmnist_setseed/ckpt-4...\n",
      "WARNING:tensorflow:Detecting that an object or model or tf.train.Checkpoint is being deleted with unrestored values. See the following logs for the specific values in question. To silence these warnings, use `status.expect_partial()`. See https://www.tensorflow.org/api_docs/python/tf/train/Checkpoint#restorefor details about the status object returned by the restore function.\n",
      "WARNING:tensorflow:Value in checkpoint could not be found in the restored object: (root).optimizer._variables.1\n",
      "WARNING:tensorflow:Value in checkpoint could not be found in the restored object: (root).optimizer._variables.2\n",
      "WARNING:tensorflow:Value in checkpoint could not be found in the restored object: (root).optimizer._variables.3\n",
      "WARNING:tensorflow:Value in checkpoint could not be found in the restored object: (root).optimizer._variables.4\n",
      "WARNING:tensorflow:Value in checkpoint could not be found in the restored object: (root).optimizer._variables.5\n",
      "WARNING:tensorflow:Value in checkpoint could not be found in the restored object: (root).optimizer._variables.6\n",
      "WARNING:tensorflow:Value in checkpoint could not be found in the restored object: (root).optimizer._variables.7\n",
      "WARNING:tensorflow:Value in checkpoint could not be found in the restored object: (root).optimizer._variables.8\n",
      "WARNING:tensorflow:Value in checkpoint could not be found in the restored object: (root).optimizer._variables.9\n",
      "WARNING:tensorflow:Value in checkpoint could not be found in the restored object: (root).optimizer._variables.10\n",
      "WARNING:tensorflow:Value in checkpoint could not be found in the restored object: (root).optimizer._variables.11\n",
      "WARNING:tensorflow:Value in checkpoint could not be found in the restored object: (root).optimizer._variables.12\n",
      "WARNING:tensorflow:Value in checkpoint could not be found in the restored object: (root).optimizer._variables.13\n",
      "WARNING:tensorflow:Value in checkpoint could not be found in the restored object: (root).optimizer._variables.14\n",
      "WARNING:tensorflow:Value in checkpoint could not be found in the restored object: (root).optimizer._variables.15\n",
      "WARNING:tensorflow:Value in checkpoint could not be found in the restored object: (root).optimizer._variables.16\n"
     ]
    }
   ],
   "source": [
    "cmodels=[]\n",
    "x = tf.random.uniform([1,28,28,1])\n",
    "for c in clients_setseed:\n",
    "        c_path = os.path.join(args.model_dir, c)\n",
    "        c_network = CNN()\n",
    "        c_optimizer = utils.initialize_optimizer()\n",
    "        c_checkpoint, c_checkpoint_manager = utils.initialize_checkpoint(c_network, c_optimizer, c_path)\n",
    "        c_network(x) # restore deferred variables\n",
    "        cmodels += [c_network]"
   ]
  },
  {
   "cell_type": "markdown",
   "id": "d48a67fc",
   "metadata": {},
   "source": [
    "## Aggregating the weights of the models"
   ]
  },
  {
   "cell_type": "code",
   "execution_count": 43,
   "id": "15e1d2e0",
   "metadata": {},
   "outputs": [],
   "source": [
    "conv1 = tf.zeros_like(federal_model.conv1.kernel)\n",
    "conv1_b = tf.zeros_like(federal_model.conv1.bias)\n",
    "\n",
    "conv2 = tf.zeros_like(federal_model.conv2.kernel)\n",
    "conv2_b = tf.zeros_like(federal_model.conv2.bias)\n",
    "\n",
    "fc1 = tf.zeros_like(federal_model.fc1.kernel)\n",
    "fc1_b = tf.zeros_like(federal_model.fc1.bias)\n",
    "                        \n",
    "out = tf.zeros_like(federal_model.out.kernel)\n",
    "out_b = tf.zeros_like(federal_model.out.bias)\n",
    "for i in range(len(cmodels)):\n",
    "    conv1 += cmodels[i].conv1.kernel / len(cmodels)\n",
    "    conv1_b += cmodels[i].conv1.bias / len(cmodels)\n",
    "    \n",
    "    conv2 += cmodels[i].conv2.kernel / len(cmodels)\n",
    "    conv2_b += cmodels[i].conv2.bias / len(cmodels)\n",
    "    \n",
    "    fc1 += cmodels[i].fc1.kernel / len(cmodels)\n",
    "    fc1_b += cmodels[i].fc1.bias / len(cmodels)\n",
    "    \n",
    "    out += cmodels[i].out.kernel / len(cmodels)\n",
    "    out_b += cmodels[i].out.bias / len(cmodels)\n",
    "    "
   ]
  },
  {
   "cell_type": "markdown",
   "id": "586b4813",
   "metadata": {},
   "source": [
    "## Federated model equals the average weight of the client models"
   ]
  },
  {
   "cell_type": "code",
   "execution_count": 44,
   "id": "eb58a586",
   "metadata": {},
   "outputs": [],
   "source": [
    "federal_model.conv1.kernel = conv1\n",
    "federal_model.conv1.bias = conv1_b\n",
    "\n",
    "federal_model.conv2.kernel = conv2\n",
    "federal_model.conv2.bias = conv2_b\n",
    "\n",
    "federal_model.fc1.kernel = fc1\n",
    "federal_model.fc1.bias = fc1_b\n",
    "\n",
    "federal_model.out.kernel = out\n",
    "federal_model.out.bias = out_b"
   ]
  },
  {
   "cell_type": "code",
   "execution_count": 45,
   "id": "a473643c",
   "metadata": {},
   "outputs": [],
   "source": [
    "criterion = utils.initialize_criterion()"
   ]
  },
  {
   "cell_type": "markdown",
   "id": "6f5d2069",
   "metadata": {},
   "source": [
    "### Random Initialization"
   ]
  },
  {
   "cell_type": "code",
   "execution_count": 41,
   "id": "4be87efb",
   "metadata": {},
   "outputs": [
    {
     "name": "stdout",
     "output_type": "stream",
     "text": [
      "20.625\n",
      "[0.         0.51365639 0.02034884 0.0950495  0.         0.28475336\n",
      " 0.00417537 0.         0.87474333 0.         0.         0.\n",
      " 0.         0.         0.         0.361      0.961      0.993\n",
      " 0.         0.        ]\n"
     ]
    },
    {
     "name": "stderr",
     "output_type": "stream",
     "text": [
      "/home/anwar/miniconda3/envs/ml/lib/python3.7/site-packages/sklearn/metrics/_classification.py:1318: UndefinedMetricWarning: Precision and F-score are ill-defined and being set to 0.0 in labels with no predicted samples. Use `zero_division` parameter to control this behavior.\n",
      "  _warn_prf(average, modifier, msg_start, len(result))\n"
     ]
    },
    {
     "data": {
      "image/png": "[encoded data removed]",
      "text/plain": [
       "<Figure size 640x480 with 1 Axes>"
      ]
     },
     "metadata": {},
     "output_type": "display_data"
    }
   ],
   "source": [
    "# evaluate federated network\n",
    "accuracy, labels = eval_model(federal_model, criterion, full_test_loader)\n",
    "p, r, f, s = precision_recall_fscore_support(f_y_test, labels.reshape(-1), average=None,labels=np.arange(20))\n",
    "\n",
    "print(accuracy.numpy())\n",
    "print(r)\n",
    "\n",
    "fig = plt.figure()\n",
    "ax = fig.add_axes([0,0,0.5,0.5])\n",
    "ax.bar(np.arange(20),r)\n",
    "plt.show()"
   ]
  },
  {
   "cell_type": "markdown",
   "id": "ce6914a1",
   "metadata": {},
   "source": [
    "### Set seed Initialization"
   ]
  },
  {
   "cell_type": "code",
   "execution_count": 47,
   "id": "7eae3f39",
   "metadata": {},
   "outputs": [
    {
     "name": "stdout",
     "output_type": "stream",
     "text": [
      "41.2\n",
      "[0.4        0.97092511 0.60562016 0.85841584 0.76069246 0.53475336\n",
      " 0.79645094 0.         0.67864476 0.91278494 0.633      0.077\n",
      " 0.         0.         0.         0.959      0.         0.\n",
      " 0.016      0.        ]\n"
     ]
    },
    {
     "name": "stderr",
     "output_type": "stream",
     "text": [
      "/home/anwar/miniconda3/envs/ml/lib/python3.7/site-packages/sklearn/metrics/_classification.py:1318: UndefinedMetricWarning: Precision and F-score are ill-defined and being set to 0.0 in labels with no predicted samples. Use `zero_division` parameter to control this behavior.\n",
      "  _warn_prf(average, modifier, msg_start, len(result))\n"
     ]
    },
    {
     "data": {
      "image/png": "[encoded data removed]",
      "text/plain": [
       "<Figure size 640x480 with 1 Axes>"
      ]
     },
     "metadata": {},
     "output_type": "display_data"
    }
   ],
   "source": [
    "# evaluate federated network\n",
    "accuracy, labels = eval_model(federal_model, criterion, full_test_loader)\n",
    "p, r, f, s = precision_recall_fscore_support(f_y_test, labels.reshape(-1), average=None,labels=np.arange(20))\n",
    "\n",
    "print(accuracy.numpy())\n",
    "print(r)\n",
    "\n",
    "fig = plt.figure()\n",
    "ax = fig.add_axes([0,0,0.5,0.5])\n",
    "ax.bar(np.arange(20),r)\n",
    "plt.show()"
   ]
  },
  {
   "cell_type": "markdown",
   "id": "34af3826",
   "metadata": {},
   "source": [
    "## Averaging only the last layer"
   ]
  },
  {
   "cell_type": "markdown",
   "id": "1e2b2770",
   "metadata": {},
   "source": [
    "### Random Initialization"
   ]
  },
  {
   "cell_type": "code",
   "execution_count": 19,
   "id": "17ebafff",
   "metadata": {},
   "outputs": [
    {
     "name": "stdout",
     "output_type": "stream",
     "text": [
      "Client model 0 :\n",
      "accuracy 24.165\n",
      "[0.49081633 0.92246696 0.20736434 0.94653465 0.09368635 0.90807175\n",
      " 0.11899791 0.01848249 0.6026694  0.50842418 0.         0.\n",
      " 0.         0.         0.         0.         0.         0.\n",
      " 0.         0.        ]\n"
     ]
    },
    {
     "name": "stderr",
     "output_type": "stream",
     "text": [
      "/home/anwar/miniconda3/envs/ml/lib/python3.7/site-packages/sklearn/metrics/_classification.py:1318: UndefinedMetricWarning: Precision and F-score are ill-defined and being set to 0.0 in labels with no predicted samples. Use `zero_division` parameter to control this behavior.\n",
      "  _warn_prf(average, modifier, msg_start, len(result))\n"
     ]
    },
    {
     "data": {
      "image/png": "[encoded data removed]",
      "text/plain": [
       "<Figure size 640x480 with 1 Axes>"
      ]
     },
     "metadata": {},
     "output_type": "display_data"
    },
    {
     "name": "stdout",
     "output_type": "stream",
     "text": [
      "Client model 1 :\n",
      "accuracy 15.870001\n",
      "[0.    0.    0.    0.    0.    0.    0.    0.    0.    0.    0.662 0.389\n",
      " 0.    0.    0.    0.266 0.858 0.999 0.    0.   ]\n"
     ]
    },
    {
     "name": "stderr",
     "output_type": "stream",
     "text": [
      "/home/anwar/miniconda3/envs/ml/lib/python3.7/site-packages/sklearn/metrics/_classification.py:1318: UndefinedMetricWarning: Precision and F-score are ill-defined and being set to 0.0 in labels with no predicted samples. Use `zero_division` parameter to control this behavior.\n",
      "  _warn_prf(average, modifier, msg_start, len(result))\n"
     ]
    },
    {
     "data": {
      "image/png": "[encoded data removed]",
      "text/plain": [
       "<Figure size 640x480 with 1 Axes>"
      ]
     },
     "metadata": {},
     "output_type": "display_data"
    }
   ],
   "source": [
    "for i in range(len(cmodels)):\n",
    "    federal_model.conv1.kernel = cmodels[i].conv1.kernel\n",
    "    federal_model.conv1.bias = cmodels[i].conv1.bias\n",
    "\n",
    "    federal_model.conv2.kernel = cmodels[i].conv2.kernel\n",
    "    federal_model.conv2.bias = cmodels[i].conv2.bias\n",
    "\n",
    "    federal_model.fc1.kernel = cmodels[i].fc1.kernel\n",
    "    federal_model.fc1.bias = cmodels[i].fc1.bias\n",
    "\n",
    "    federal_model.out.kernel = out\n",
    "    federal_model.out.bias = out_b\n",
    "\n",
    "    # evaluate federated network\n",
    "    accuracy, labels = eval_model(federal_model, criterion, full_test_loader)\n",
    "    p, r, f, s = precision_recall_fscore_support(f_y_test, labels.reshape(-1), average=None,labels=np.arange(20))\n",
    "    \n",
    "    print('Client model', i, ':')\n",
    "    print('accuracy', accuracy.numpy())\n",
    "    print(r)\n",
    "    \n",
    "    fig = plt.figure()\n",
    "    ax = fig.add_axes([0,0,0.5,0.5])\n",
    "    ax.bar(np.arange(20),r)\n",
    "    plt.show()"
   ]
  },
  {
   "cell_type": "markdown",
   "id": "beb36d6e",
   "metadata": {},
   "source": [
    "### Set seed initialization"
   ]
  },
  {
   "cell_type": "code",
   "execution_count": 49,
   "id": "c5ab9107",
   "metadata": {},
   "outputs": [
    {
     "name": "stdout",
     "output_type": "stream",
     "text": [
      "Client model 0 :\n",
      "accuracy 44.73\n",
      "[0.97653061 0.98942731 0.88178295 0.85247525 0.95519348 0.83295964\n",
      " 0.92588727 0.89883268 0.86344969 0.75520317 0.         0.\n",
      " 0.         0.         0.         0.         0.         0.\n",
      " 0.         0.        ]\n"
     ]
    },
    {
     "name": "stderr",
     "output_type": "stream",
     "text": [
      "/home/anwar/miniconda3/envs/ml/lib/python3.7/site-packages/sklearn/metrics/_classification.py:1318: UndefinedMetricWarning: Precision and F-score are ill-defined and being set to 0.0 in labels with no predicted samples. Use `zero_division` parameter to control this behavior.\n",
      "  _warn_prf(average, modifier, msg_start, len(result))\n"
     ]
    },
    {
     "data": {
      "image/png": "[encoded data removed]",
      "text/plain": [
       "<Figure size 640x480 with 1 Axes>"
      ]
     },
     "metadata": {},
     "output_type": "display_data"
    },
    {
     "name": "stdout",
     "output_type": "stream",
     "text": [
      "Client model 1 :\n",
      "accuracy 37.835\n",
      "[0.    0.    0.    0.    0.    0.    0.    0.    0.    0.    0.579 0.91\n",
      " 0.299 0.841 0.786 0.907 0.593 0.862 0.887 0.903]\n"
     ]
    },
    {
     "name": "stderr",
     "output_type": "stream",
     "text": [
      "/home/anwar/miniconda3/envs/ml/lib/python3.7/site-packages/sklearn/metrics/_classification.py:1318: UndefinedMetricWarning: Precision and F-score are ill-defined and being set to 0.0 in labels with no predicted samples. Use `zero_division` parameter to control this behavior.\n",
      "  _warn_prf(average, modifier, msg_start, len(result))\n"
     ]
    },
    {
     "data": {
      "image/png": "[encoded data removed]",
      "text/plain": [
       "<Figure size 640x480 with 1 Axes>"
      ]
     },
     "metadata": {},
     "output_type": "display_data"
    }
   ],
   "source": [
    "for i in range(len(cmodels)):\n",
    "    federal_model.conv1.kernel = cmodels[i].conv1.kernel\n",
    "    federal_model.conv1.bias = cmodels[i].conv1.bias\n",
    "\n",
    "    federal_model.conv2.kernel = cmodels[i].conv2.kernel\n",
    "    federal_model.conv2.bias = cmodels[i].conv2.bias\n",
    "\n",
    "    federal_model.fc1.kernel = cmodels[i].fc1.kernel\n",
    "    federal_model.fc1.bias = cmodels[i].fc1.bias\n",
    "\n",
    "    federal_model.out.kernel = out\n",
    "    federal_model.out.bias = out_b\n",
    "\n",
    "    # evaluate federated network\n",
    "    accuracy, labels = eval_model(federal_model, criterion, full_test_loader)\n",
    "    p, r, f, s = precision_recall_fscore_support(f_y_test, labels.reshape(-1), average=None,labels=np.arange(20))\n",
    "    \n",
    "    print('Client model', i, ':')\n",
    "    print('accuracy', accuracy.numpy())\n",
    "    print(r)\n",
    "    \n",
    "    fig = plt.figure()\n",
    "    ax = fig.add_axes([0,0,0.5,0.5])\n",
    "    ax.bar(np.arange(20),r)\n",
    "    plt.show()"
   ]
  },
  {
   "cell_type": "code",
   "execution_count": null,
   "id": "60903874",
   "metadata": {},
   "outputs": [],
   "source": []
  }
 ],
 "metadata": {
  "kernelspec": {
   "display_name": "Python 3",
   "language": "python",
   "name": "python3"
  },
  "language_info": {
   "codemirror_mode": {
    "name": "ipython",
    "version": 3
   },
   "file_extension": ".py",
   "mimetype": "text/x-python",
   "name": "python",
   "nbconvert_exporter": "python",
   "pygments_lexer": "ipython3",
   "version": "3.7.9"
  }
 },
 "nbformat": 4,
 "nbformat_minor": 5
}
